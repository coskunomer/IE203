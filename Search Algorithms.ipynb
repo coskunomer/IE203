{
 "cells": [
  {
   "cell_type": "code",
   "execution_count": 1,
   "id": "8648b1e6",
   "metadata": {},
   "outputs": [],
   "source": [
    "import sympy as sym\n",
    "import math"
   ]
  },
  {
   "cell_type": "markdown",
   "id": "b1b843b5",
   "metadata": {},
   "source": [
    "# Bisection Search"
   ]
  },
  {
   "cell_type": "code",
   "execution_count": 2,
   "id": "c1075c31",
   "metadata": {},
   "outputs": [],
   "source": [
    "def bisection_search(f, a, b, error_accepted=None, n_of_iterations=None):\n",
    "    \n",
    "    error = abs(b - a)\n",
    "    \n",
    "    if error_accepted:\n",
    "        while error > error_accepted:\n",
    "            c = (a + b) / 2\n",
    "\n",
    "            if f.evalf(subs={x:a}) * f.evalf(subs={x:b}) >= 0:\n",
    "                print(\"No root present\")\n",
    "                quit()\n",
    "\n",
    "            elif f.evalf(subs={x:a}) * f.evalf(subs={x:c}) < 0:\n",
    "                b = c\n",
    "                error = abs(b - a)\n",
    "\n",
    "            elif f.evalf(subs={x:b}) * f.evalf(subs={x:c}) < 0:\n",
    "                a = c\n",
    "                error = abs(b - a)\n",
    "\n",
    "            else:\n",
    "                print(\"Something went wrong\")\n",
    "            \n",
    "            print(\"a:\", a, \"b:\", b, \"error:\", error)\n",
    "    \n",
    "    elif n_of_iterations:\n",
    "        for i in range(n_of_iterations):\n",
    "            c = (a + b) / 2\n",
    "\n",
    "            if f.evalf(subs={x:a}) * f.evalf(subs={x:b}) >= 0:\n",
    "                print(\"No root present\")\n",
    "                break\n",
    "\n",
    "            elif f.evalf(subs={x:a}) * f.evalf(subs={x:c}) < 0:\n",
    "                b = c\n",
    "                error = abs(b - a)\n",
    "\n",
    "            elif f.evalf(subs={x:b}) * f.evalf(subs={x:c}) < 0:\n",
    "                a = c\n",
    "                error = abs(b - a)\n",
    "\n",
    "            else:\n",
    "                print(\"Something went wrong\")\n",
    "            \n",
    "            print(\"a:\", a, \"b:\", b, \"error:\", error)\n",
    "    \n",
    "    return c"
   ]
  },
  {
   "cell_type": "code",
   "execution_count": 4,
   "id": "53a05bc7",
   "metadata": {},
   "outputs": [
    {
     "name": "stdout",
     "output_type": "stream",
     "text": [
      "a: 2.0 b: 6 error: 4.0\n",
      "a: 4.0 b: 6 error: 2.0\n",
      "a: 4.0 b: 5.0 error: 1.0\n",
      "a: 4.5 b: 5.0 error: 0.5\n",
      "a: 4.75 b: 5.0 error: 0.25\n",
      "a: 4.875 b: 5.0 error: 0.125\n",
      "a: 4.9375 b: 5.0 error: 0.0625\n",
      "a: 4.96875 b: 5.0 error: 0.03125\n",
      "a: 4.984375 b: 5.0 error: 0.015625\n",
      "a: 4.9921875 b: 5.0 error: 0.0078125\n"
     ]
    },
    {
     "data": {
      "text/plain": [
       "4.9921875"
      ]
     },
     "execution_count": 4,
     "metadata": {},
     "output_type": "execute_result"
    }
   ],
   "source": [
    "x = sym.Symbol('x')\n",
    "func = 3*(x**4) - 20*(x**3) - 12*(x**2) + 120*x\n",
    "yprime = func.diff(x)\n",
    "bisection_search(yprime, -2, 6, error_accepted=0.01, n_of_iterations=None)"
   ]
  },
  {
   "cell_type": "markdown",
   "id": "ffdbb8ac",
   "metadata": {},
   "source": [
    "# Dichotomous Search"
   ]
  },
  {
   "cell_type": "code",
   "execution_count": 4,
   "id": "2be407a7",
   "metadata": {},
   "outputs": [],
   "source": [
    "def dichotomous_search(f, a, b, error_accepted):\n",
    "    error = abs(b - a)\n",
    "    \n",
    "    while error > error_accepted*2:\n",
    "        c = (a + b) / 2\n",
    "            \n",
    "        x1 = c - error_accepted/2\n",
    "        x2 = c + error_accepted/2\n",
    "        print(\"a:\", a, \"b:\", b, \"x1:\", x1, \"x2:\", x2, \"error:\", error)\n",
    "        print(f.evalf(subs={x:c}))\n",
    "        print(f.evalf(subs={x:x2}))\n",
    "\n",
    "        if f.evalf(subs={x:c}) < f.evalf(subs={x:x2}):\n",
    "            b = x2\n",
    "\n",
    "        else:\n",
    "            a = x1\n",
    "            \n",
    "        error = abs(b - a)\n",
    "            \n",
    "\n",
    "    return c"
   ]
  },
  {
   "cell_type": "code",
   "execution_count": 5,
   "id": "c10443c8",
   "metadata": {},
   "outputs": [
    {
     "name": "stdout",
     "output_type": "stream",
     "text": [
      "lower bound: -2 upper bound: 6 x1: 1.95 x2: 2.05 error: 8\n",
      "80.0000000000000\n",
      "76.2505187500000\n",
      "lower bound: 1.95 upper bound: 6 x1: 3.9250000000000003 x2: 4.025 error: 4.05\n",
      "-219.777936328125\n",
      "-228.177061328125\n",
      "lower bound: 3.9250000000000003 upper bound: 6 x1: 4.9125000000000005 x2: 5.0125 error: 2.0749999999999997\n",
      "-324.808040942383\n",
      "-324.978359301758\n",
      "lower bound: 4.9125000000000005 upper bound: 6 x1: 5.406250000000001 x2: 5.5062500000000005 error: 1.0874999999999995\n",
      "-292.344368403625\n",
      "-284.245203608704\n",
      "lower bound: 4.9125000000000005 upper bound: 5.5062500000000005 x1: 5.159375000000001 x2: 5.259375 error: 0.59375\n",
      "-318.577463477802\n",
      "-315.004435981464\n",
      "lower bound: 4.9125000000000005 upper bound: 5.259375 x1: 5.0359375 x2: 5.1359375 error: 0.3468749999999998\n",
      "-323.955284524709\n",
      "-322.348393456441\n",
      "lower bound: 4.9125000000000005 upper bound: 5.1359375 x1: 4.97421875 x2: 5.07421875 error: 0.2234374999999993\n",
      "-324.918487146138\n",
      "-324.223393487977\n"
     ]
    },
    {
     "data": {
      "text/plain": [
       "5.02421875"
      ]
     },
     "execution_count": 5,
     "metadata": {},
     "output_type": "execute_result"
    }
   ],
   "source": [
    "x = sym.Symbol('x')\n",
    "func = 3*(x**4) - 20*(x**3) - 12*(x**2) + 120*x\n",
    "dichotomous_search(func, -2, 6, error_accepted=0.1)"
   ]
  },
  {
   "cell_type": "markdown",
   "id": "db3851b0",
   "metadata": {},
   "source": [
    "# Golden Section Search"
   ]
  },
  {
   "cell_type": "code",
   "execution_count": 9,
   "id": "9bad26d0",
   "metadata": {},
   "outputs": [],
   "source": [
    "def golden_section_search(f, a, b, error_accepted):\n",
    "    error = abs(b - a)\n",
    "    \n",
    "    while error > error_accepted:\n",
    "        mean = (a + b) / 2\n",
    "            \n",
    "        c = b + (a-b)/1.618\n",
    "        d = a + (b-a)/1.618\n",
    "        print(\"a:\", a, \"b:\", b, \"c:\", c, \"d:\", d, \"error:\", error)\n",
    "\n",
    "        if f.evalf(subs={x:c}) < f.evalf(subs={x:d}):\n",
    "            b = d            \n",
    "\n",
    "        else:\n",
    "            a = c\n",
    "            \n",
    "        error = abs(b - a)\n",
    "            \n",
    "\n",
    "    return mean"
   ]
  },
  {
   "cell_type": "code",
   "execution_count": 7,
   "id": "9b82172f",
   "metadata": {},
   "outputs": [
    {
     "name": "stdout",
     "output_type": "stream",
     "text": [
      "lower bound: -2 upper bound: 6 c: 1.0556242274412861 d: 2.944375772558714 error: 8\n",
      "lower bound: 1.0556242274412861 upper bound: 6 c: 2.9441435274668026 d: 4.111480699974484 error: 4.944375772558714\n",
      "lower bound: 2.9441435274668026 upper bound: 6 c: 4.111337161598765 d: 4.832806365868037 error: 3.0558564725331974\n",
      "lower bound: 4.111337161598765 upper bound: 6 c: 4.83271765240962 d: 5.278619509189145 error: 1.8886628384012347\n",
      "lower bound: 4.111337161598765 upper bound: 5.278619509189145 c: 4.557184189293978 d: 4.832772481493932 error: 1.1672823475903797\n",
      "lower bound: 4.557184189293978 upper bound: 5.278619509189145 c: 4.832738594544419 d: 5.003065103938704 error: 0.7214353198951668\n",
      "lower bound: 4.832738594544419 upper bound: 5.278619509189145 c: 5.003044160212182 d: 5.108313943521382 error: 0.445880914644726\n",
      "lower bound: 4.832738594544419 upper bound: 5.108313943521382 c: 4.9379954336468685 d: 5.003057104418932 error: 0.2755753489769628\n",
      "lower bound: 4.9379954336468685 upper bound: 5.108313943521382 c: 5.003049104291151 d: 5.0432602728771 error: 0.17031850987451325\n",
      "lower bound: 4.9379954336468685 upper bound: 5.0432602728771 c: 4.97820165777807 d: 5.0030540487458985 error: 0.10526483923023111\n",
      "lower bound: 4.97820165777807 upper bound: 5.0432602728771 c: 5.003050992840616 d: 5.018410937814553 error: 0.06505861509902999\n",
      "lower bound: 4.97820165777807 upper bound: 5.018410937814553 c: 4.993559714059001 d: 5.003052881533622 error: 0.04020928003648372\n",
      "lower bound: 4.993559714059001 upper bound: 5.018410937814553 c: 5.00305171423263 d: 5.008918937640924 error: 0.02485122375555271\n",
      "lower bound: 4.993559714059001 upper bound: 5.008918937640924 c: 4.999426216020453 d: 5.003052435679472 error: 0.015359223581923764\n"
     ]
    },
    {
     "data": {
      "text/plain": [
       "5.001239325849962"
      ]
     },
     "execution_count": 7,
     "metadata": {},
     "output_type": "execute_result"
    }
   ],
   "source": [
    "x = sym.Symbol('x')\n",
    "func = 3*(x**4) - 20*(x**3) - 12*(x**2) + 120*x\n",
    "golden_section_search(func, -2, 6, error_accepted=0.01)"
   ]
  },
  {
   "cell_type": "code",
   "execution_count": 10,
   "id": "d7b8a6a9",
   "metadata": {},
   "outputs": [
    {
     "name": "stdout",
     "output_type": "stream",
     "text": [
      "a: -100 b: 100 c: -23.609394313967854 d: 23.609394313967854 error: 200\n",
      "a: -100 b: 23.609394313967854 c: -52.78701749936209 d: -23.603588186670052 error: 123.60939431396785\n",
      "a: -52.78701749936209 b: 23.609394313967854 c: -23.60717664606301 d: -5.570446539331229 error: 76.39641181332995\n",
      "a: -23.60717664606301 b: 23.609394313967854 c: -5.572664375791639 d: 5.574882043696483 error: 47.216570960030865\n",
      "a: -23.60717664606301 b: 5.574882043696483 c: -12.461000953682682 d: -5.571293648683845 error: 29.182058689759494\n",
      "a: -12.461000953682682 b: 5.574882043696483 c: -5.572140822421664 d: -1.313978087564534 error: 18.035882997379165\n",
      "a: -5.572140822421664 b: 5.574882043696483 c: -1.314501680727588 d: 1.3172429020024072 error: 11.147022866118148\n",
      "a: -5.572140822421664 b: 1.3172429020024072 c: -2.94071984486043 d: -1.3141780755588268 error: 6.889383724424071\n",
      "a: -2.94071984486043 b: 1.3172429020024072 c: -1.3143780787533634 d: -0.3090988641046595 error: 4.257962746862837\n",
      "a: -1.3143780787533634 b: 1.3172429020024072 c: -0.309222475473347 d: 0.3120872987223908 error: 2.6316209807557707\n",
      "a: -1.3143780787533634 b: 0.3120872987223908 c: -0.6931447021896946 d: -0.309146077841278 error: 1.6264653774757543\n",
      "a: -1.3143780787533634 b: -0.309146077841278 c: -0.9304266717300823 d: -0.6930974848645591 error: 1.0052320009120854\n",
      "a: -0.9304266717300823 b: -0.309146077841278 c: -0.6931266673893647 d: -0.5464460821819956 error: 0.6212805938888043\n",
      "a: -0.9304266717300823 b: -0.5464460821819956 c: -0.7837641226937921 d: -0.6931086312182859 error: 0.38398058954808667\n",
      "a: -0.7837641226937921 b: -0.5464460821819956 c: -0.6931197784191999 d: -0.6370904264565879 error: 0.2373180405117965\n",
      "a: -0.7837641226937921 b: -0.6370904264565879 c: -0.7277416602249465 d: -0.6931128889254335 error: 0.14667369623720428\n",
      "a: -0.7837641226937921 b: -0.6931128889254335 c: -0.7491396094250371 d: -0.7277374021941886 error: 0.0906512337683586\n",
      "a: -0.7491396094250371 b: -0.6931128889254335 c: -0.7277400338572033 d: -0.7145124644932673 error: 0.056026720499603555\n",
      "a: -0.7277400338572033 b: -0.6931128889254335 c: -0.7145140909846237 d: -0.706338831798013 error: 0.03462714493176977\n",
      "a: -0.7277400338572033 b: -0.706338831798013 c: -0.7195657799186498 d: -0.7145130857365666 error: 0.021401202059190272\n",
      "a: -0.7195657799186498 b: -0.706338831798013 c: -0.7145137070270839 d: -0.7113909046895789 error: 0.013226948120636739\n"
     ]
    },
    {
     "data": {
      "text/plain": [
       "-0.7129523058583314"
      ]
     },
     "execution_count": 10,
     "metadata": {},
     "output_type": "execute_result"
    }
   ],
   "source": [
    "x = sym.Symbol('x')\n",
    "func = 6*(math.e**(2*x)) + 2*(x**2)\n",
    "golden_section_search(func, -100, 100, error_accepted=0.01)"
   ]
  },
  {
   "cell_type": "code",
   "execution_count": null,
   "id": "1e961999",
   "metadata": {},
   "outputs": [],
   "source": []
  }
 ],
 "metadata": {
  "kernelspec": {
   "display_name": "Python 3 (ipykernel)",
   "language": "python",
   "name": "python3"
  },
  "language_info": {
   "codemirror_mode": {
    "name": "ipython",
    "version": 3
   },
   "file_extension": ".py",
   "mimetype": "text/x-python",
   "name": "python",
   "nbconvert_exporter": "python",
   "pygments_lexer": "ipython3",
   "version": "3.8.11"
  }
 },
 "nbformat": 4,
 "nbformat_minor": 5
}
