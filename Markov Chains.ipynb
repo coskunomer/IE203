{
 "cells": [
  {
   "cell_type": "markdown",
   "id": "7ea014b9",
   "metadata": {},
   "source": [
    "# MARKOV CHAINS"
   ]
  },
  {
   "cell_type": "code",
   "execution_count": 1,
   "id": "49dac441",
   "metadata": {},
   "outputs": [],
   "source": [
    "# importing the numpy package to deal with matrices and arrays\n",
    "import numpy as np"
   ]
  },
  {
   "cell_type": "code",
   "execution_count": 2,
   "id": "48adb0a9",
   "metadata": {},
   "outputs": [],
   "source": [
    "# this function takes an argument n - dimension of our n*n square matrix\n",
    "# and returns an n*n transition probability matrix\n",
    "def generate_square_probability_matrix(n):\n",
    "    matrix = 1-np.random.random((n,n))\n",
    "    matrix = matrix / matrix.sum(axis=1, keepdims=1)\n",
    "    return matrix.T"
   ]
  },
  {
   "cell_type": "code",
   "execution_count": 3,
   "id": "31397161",
   "metadata": {},
   "outputs": [],
   "source": [
    "# this function returns the theoretical values for Π = [π0 π1 ... πn]\n",
    "# making use of the theoretical equation for the ergodic matrices Π = Π*Matrix\n",
    "def find_pi(matrix):\n",
    "    dimension = matrix.shape[0]\n",
    "    matrix = matrix - np.eye(dimension)\n",
    "    for i in range(dimension):\n",
    "        matrix[0, i] = 1\n",
    "    P0 = np.zeros((dimension,1))    \n",
    "    P0[0] = 1\n",
    "    return np.matmul(np.linalg.inv(matrix),P0)"
   ]
  },
  {
   "cell_type": "markdown",
   "id": "d28e24b0",
   "metadata": {},
   "source": [
    "## Method I: Monte Carlo Simulation Implementation"
   ]
  },
  {
   "cell_type": "code",
   "execution_count": 4,
   "id": "e0c3875a",
   "metadata": {},
   "outputs": [],
   "source": [
    "# find_interval function. takes a sorted array and a number as input, returns the index of\n",
    "# the last value that is smaller than the number. \n",
    "# in order to make function work faster, the function is implented\n",
    "# to perform a binary search in O(log(n)) time complexity\n",
    "def find_interval(arr, number, lower, upper):\n",
    "    middle = (lower + upper) // 2\n",
    "    if upper == lower:\n",
    "        return lower\n",
    "    if arr[middle] < number:\n",
    "        return find_interval(arr, number, lower=middle+1, upper=upper)\n",
    "    else:\n",
    "        return find_interval(arr, number, lower=lower, upper=middle)\n",
    "\n",
    "# monte carlo method implemenation. takes a matrix and number of steps as input.\n",
    "# return Π = [π0 π1 ... πn]\n",
    "# generates random numbers by using the probability distribution of the current_state.\n",
    "# finds the new_state by using the above find_interval function\n",
    "# moves to the new_state and makes the count += 1 for this state\n",
    "# in the end, we normalize the counted values to add up to 1 and therefore give us the expected Π = [π0 π1 ... πn].\n",
    "def monte_carlo(matrix, n_steps=200000):\n",
    "    matrix = matrix.T\n",
    "    dimension = matrix.shape[0]\n",
    "    interval_matrix = np.zeros((dimension, dimension))\n",
    "    for i in range(dimension):\n",
    "        for j in range(dimension):\n",
    "            interval_matrix[i, j] = sum(matrix[i, 0:j+1])\n",
    "    counts = np.zeros((dimension,))\n",
    "    random_number = np.random.random()\n",
    "    current_state = int(np.random.random()*dimension)\n",
    "    for i in range(n_steps):\n",
    "        random_number = np.random.random()\n",
    "        row = interval_matrix[current_state,]\n",
    "        new_state = find_interval(row, random_number, 0, len(row)-1)\n",
    "        counts[new_state] += 1\n",
    "        current_state = new_state\n",
    "    return counts / sum(counts)"
   ]
  },
  {
   "cell_type": "markdown",
   "id": "2f75d2a8",
   "metadata": {},
   "source": [
    "## Method II: Matrix Multiplication Implementation"
   ]
  },
  {
   "cell_type": "code",
   "execution_count": 5,
   "id": "ba487aa9",
   "metadata": {},
   "outputs": [],
   "source": [
    "# matrix_multiplication_method function, takes a transition probability matrix and erroe as input.\n",
    "# returns the expected Π = [π0 π1 ... πn].\n",
    "# at each step, we calculate the absolute error\n",
    "# if the error is smaller than the error=0.0005, we return the solution\n",
    "# else, we continue to compute powers of the matrix by using recursion\n",
    "def matrix_multiplication_method(matrix, error=0.0005):\n",
    "    dimension = matrix.shape[0]\n",
    "    random_row = matrix[int(np.random.random()*dimension),]\n",
    "    err = np.sum(np.absolute(np.mean(matrix, axis=0) - random_row))\n",
    "    if err < error:\n",
    "        return np.mean(matrix, axis=0)\n",
    "    return matrix_multiplication_method(np.matmul(matrix, matrix))"
   ]
  },
  {
   "cell_type": "markdown",
   "id": "0bc066c1",
   "metadata": {},
   "source": [
    "## Running the functions and checking if they give us the correct answers. "
   ]
  },
  {
   "cell_type": "code",
   "execution_count": 6,
   "id": "cd118dc1",
   "metadata": {},
   "outputs": [],
   "source": [
    "# generating 3 transition probability matrices of dimensions n*n for n = 5, 25, 50.\n",
    "n1 = 5\n",
    "n2 = 25\n",
    "n3 = 50\n",
    "matrix1 = generate_square_probability_matrix(n1)\n",
    "matrix2 = generate_square_probability_matrix(n2)\n",
    "matrix3 = generate_square_probability_matrix(n3)"
   ]
  },
  {
   "cell_type": "markdown",
   "id": "8ef96f56",
   "metadata": {},
   "source": [
    "### n = 5"
   ]
  },
  {
   "cell_type": "code",
   "execution_count": 7,
   "id": "2747e180",
   "metadata": {},
   "outputs": [
    {
     "data": {
      "text/plain": [
       "array([[0.14487903],\n",
       "       [0.20144673],\n",
       "       [0.18420987],\n",
       "       [0.19731497],\n",
       "       [0.2721494 ]])"
      ]
     },
     "execution_count": 7,
     "metadata": {},
     "output_type": "execute_result"
    }
   ],
   "source": [
    "# this function returns the theoretical values for Π = [π0 π1 ... πn].\n",
    "# making use of the theoretical equation for the ergodic matrices Π = Π*Matrix\n",
    "find_pi(matrix1)"
   ]
  },
  {
   "cell_type": "code",
   "execution_count": 8,
   "id": "3091a0b3",
   "metadata": {},
   "outputs": [
    {
     "data": {
      "text/plain": [
       "array([0.144215, 0.201385, 0.183685, 0.198295, 0.27242 ])"
      ]
     },
     "execution_count": 8,
     "metadata": {},
     "output_type": "execute_result"
    }
   ],
   "source": [
    "# monte carlo method to find Π = [π0 π1 ... πn].\n",
    "monte_carlo(matrix1)"
   ]
  },
  {
   "cell_type": "code",
   "execution_count": 9,
   "id": "c7ba2167",
   "metadata": {},
   "outputs": [
    {
     "data": {
      "text/plain": [
       "array([0.14487782, 0.201447  , 0.18421173, 0.19731386, 0.27214959])"
      ]
     },
     "execution_count": 9,
     "metadata": {},
     "output_type": "execute_result"
    }
   ],
   "source": [
    "# matrix multiplciation method to find Π = [π0 π1 ... πn].\n",
    "matrix_multiplication_method(matrix1.T)"
   ]
  },
  {
   "cell_type": "markdown",
   "id": "d9d4f178",
   "metadata": {},
   "source": [
    "### n = 25"
   ]
  },
  {
   "cell_type": "code",
   "execution_count": 10,
   "id": "31d22605",
   "metadata": {},
   "outputs": [
    {
     "data": {
      "text/plain": [
       "array([[0.03918586],\n",
       "       [0.03771146],\n",
       "       [0.04395481],\n",
       "       [0.044173  ],\n",
       "       [0.04178993],\n",
       "       [0.04163473],\n",
       "       [0.03502717],\n",
       "       [0.0428544 ],\n",
       "       [0.03909858],\n",
       "       [0.04388551],\n",
       "       [0.03732905],\n",
       "       [0.04127214],\n",
       "       [0.03650179],\n",
       "       [0.03846046],\n",
       "       [0.04593108],\n",
       "       [0.03593472],\n",
       "       [0.04113279],\n",
       "       [0.03520741],\n",
       "       [0.04716188],\n",
       "       [0.03401868],\n",
       "       [0.04802747],\n",
       "       [0.03827981],\n",
       "       [0.03642183],\n",
       "       [0.04143306],\n",
       "       [0.03357237]])"
      ]
     },
     "execution_count": 10,
     "metadata": {},
     "output_type": "execute_result"
    }
   ],
   "source": [
    "# this function returns the theoretical values for Π = [π0 π1 ... πn].\n",
    "# making use of the theoretical equation for the ergodic matrices Π = Π*Matrix\n",
    "find_pi(matrix2)"
   ]
  },
  {
   "cell_type": "code",
   "execution_count": 11,
   "id": "0abbb126",
   "metadata": {},
   "outputs": [
    {
     "data": {
      "text/plain": [
       "array([0.040315, 0.037915, 0.04388 , 0.04358 , 0.042005, 0.040835,\n",
       "       0.034615, 0.04223 , 0.039045, 0.043975, 0.037135, 0.0414  ,\n",
       "       0.03726 , 0.038435, 0.04578 , 0.036075, 0.041105, 0.035935,\n",
       "       0.04778 , 0.033455, 0.048425, 0.038175, 0.036575, 0.040395,\n",
       "       0.033675])"
      ]
     },
     "execution_count": 11,
     "metadata": {},
     "output_type": "execute_result"
    }
   ],
   "source": [
    "# monte carlo method to find Π = [π0 π1 ... πn].\n",
    "monte_carlo(matrix2)"
   ]
  },
  {
   "cell_type": "code",
   "execution_count": 12,
   "id": "73172e92",
   "metadata": {},
   "outputs": [
    {
     "data": {
      "text/plain": [
       "array([0.03918586, 0.03771146, 0.04395481, 0.044173  , 0.04178993,\n",
       "       0.04163473, 0.03502717, 0.0428544 , 0.03909858, 0.04388551,\n",
       "       0.03732905, 0.04127214, 0.03650179, 0.03846047, 0.04593108,\n",
       "       0.03593472, 0.04113279, 0.03520741, 0.04716188, 0.03401868,\n",
       "       0.04802747, 0.03827981, 0.03642183, 0.04143306, 0.03357237])"
      ]
     },
     "execution_count": 12,
     "metadata": {},
     "output_type": "execute_result"
    }
   ],
   "source": [
    "# matrix multiplciation method to find Π = [π0 π1 ... πn].\n",
    "matrix_multiplication_method(matrix2.T)"
   ]
  },
  {
   "cell_type": "markdown",
   "id": "c58c57bf",
   "metadata": {},
   "source": [
    "### n = 50"
   ]
  },
  {
   "cell_type": "code",
   "execution_count": 13,
   "id": "376a710a",
   "metadata": {},
   "outputs": [
    {
     "data": {
      "text/plain": [
       "array([[0.0212586 ],\n",
       "       [0.02090603],\n",
       "       [0.01872547],\n",
       "       [0.02086604],\n",
       "       [0.01890683],\n",
       "       [0.01759254],\n",
       "       [0.02129177],\n",
       "       [0.02225279],\n",
       "       [0.01901068],\n",
       "       [0.01953006],\n",
       "       [0.02027884],\n",
       "       [0.01834086],\n",
       "       [0.02211114],\n",
       "       [0.01859629],\n",
       "       [0.01870364],\n",
       "       [0.01758923],\n",
       "       [0.02068503],\n",
       "       [0.01992868],\n",
       "       [0.02020948],\n",
       "       [0.02042327],\n",
       "       [0.02031738],\n",
       "       [0.01879644],\n",
       "       [0.01785443],\n",
       "       [0.02140367],\n",
       "       [0.01953667],\n",
       "       [0.01873552],\n",
       "       [0.01971057],\n",
       "       [0.02070938],\n",
       "       [0.02120874],\n",
       "       [0.02052515],\n",
       "       [0.01828095],\n",
       "       [0.02096246],\n",
       "       [0.02187088],\n",
       "       [0.01958228],\n",
       "       [0.02017784],\n",
       "       [0.02142782],\n",
       "       [0.02039257],\n",
       "       [0.02334239],\n",
       "       [0.01868518],\n",
       "       [0.01722052],\n",
       "       [0.01818087],\n",
       "       [0.02182555],\n",
       "       [0.02153875],\n",
       "       [0.01830151],\n",
       "       [0.01893172],\n",
       "       [0.02014096],\n",
       "       [0.02221352],\n",
       "       [0.02181766],\n",
       "       [0.01824721],\n",
       "       [0.02085416]])"
      ]
     },
     "execution_count": 13,
     "metadata": {},
     "output_type": "execute_result"
    }
   ],
   "source": [
    "# this function returns the theoretical values for Π = [π0 π1 ... πn].\n",
    "# making use of the theoretical equation for the ergodic matrices Π = Π*Matrix\n",
    "find_pi(matrix3)"
   ]
  },
  {
   "cell_type": "code",
   "execution_count": 14,
   "id": "5b2cca26",
   "metadata": {},
   "outputs": [
    {
     "data": {
      "text/plain": [
       "array([0.0212  , 0.020885, 0.0193  , 0.02039 , 0.018435, 0.018215,\n",
       "       0.02131 , 0.02218 , 0.019015, 0.01938 , 0.01968 , 0.018295,\n",
       "       0.022105, 0.018785, 0.019035, 0.017285, 0.02118 , 0.019335,\n",
       "       0.020085, 0.020845, 0.02025 , 0.018895, 0.01786 , 0.020865,\n",
       "       0.019485, 0.019195, 0.019745, 0.020925, 0.02108 , 0.020215,\n",
       "       0.01808 , 0.021675, 0.021385, 0.019335, 0.02086 , 0.02137 ,\n",
       "       0.020535, 0.023455, 0.0186  , 0.01725 , 0.01848 , 0.02178 ,\n",
       "       0.02168 , 0.017795, 0.01898 , 0.020145, 0.022075, 0.022185,\n",
       "       0.01785 , 0.02103 ])"
      ]
     },
     "execution_count": 14,
     "metadata": {},
     "output_type": "execute_result"
    }
   ],
   "source": [
    "# monte carlo method to find Π = [π0 π1 ... πn].\n",
    "monte_carlo(matrix3)"
   ]
  },
  {
   "cell_type": "code",
   "execution_count": 15,
   "id": "c71cb7b2",
   "metadata": {},
   "outputs": [
    {
     "data": {
      "text/plain": [
       "array([0.02125863, 0.02090603, 0.01872546, 0.02086601, 0.0189069 ,\n",
       "       0.01759259, 0.02129178, 0.02225278, 0.01901067, 0.01953013,\n",
       "       0.02027883, 0.01834088, 0.02211111, 0.01859623, 0.01870372,\n",
       "       0.01758924, 0.02068516, 0.01992863, 0.02020944, 0.02042323,\n",
       "       0.02031739, 0.01879643, 0.01785437, 0.02140365, 0.01953664,\n",
       "       0.01873551, 0.01971058, 0.0207094 , 0.02120879, 0.02052517,\n",
       "       0.01828103, 0.02096248, 0.02187088, 0.01958229, 0.0201778 ,\n",
       "       0.02142782, 0.02039258, 0.02334237, 0.01868511, 0.0172205 ,\n",
       "       0.01818089, 0.02182555, 0.02153869, 0.01830151, 0.0189317 ,\n",
       "       0.020141  , 0.02221341, 0.02181767, 0.01824721, 0.02085412])"
      ]
     },
     "execution_count": 15,
     "metadata": {},
     "output_type": "execute_result"
    }
   ],
   "source": [
    "# matrix multiplciation method to find Π = [π0 π1 ... πn].\n",
    "matrix_multiplication_method(matrix3.T)"
   ]
  },
  {
   "cell_type": "markdown",
   "id": "4065570d",
   "metadata": {},
   "source": [
    "## COMMENT: Both 2 methods gave approximately the same answers compared to the expected theoretical values. Both for monte carlo method and matrix multiplication method, increasing the number of iterations would make the answers even more accurate. As the number of iterations go to infinity, we would expect to get the same values as in theoretical solution."
   ]
  },
  {
   "cell_type": "markdown",
   "id": "90188007",
   "metadata": {},
   "source": [
    "## NOW, LET'S MAKE FIRST STATE OF EVERY MATRIX ABSROBING AND CHECK THE RESULTS AGAIN"
   ]
  },
  {
   "cell_type": "code",
   "execution_count": 16,
   "id": "4e631e51",
   "metadata": {},
   "outputs": [],
   "source": [
    "matrix1[:, 0] = np.eye(n1)[:,0]\n",
    "matrix2[:, 0] = np.eye(n2)[:,0]\n",
    "matrix3[:, 0] = np.eye(n3)[:,0]"
   ]
  },
  {
   "cell_type": "code",
   "execution_count": 17,
   "id": "67c63eee",
   "metadata": {},
   "outputs": [
    {
     "data": {
      "text/plain": [
       "array([[1.],\n",
       "       [0.],\n",
       "       [0.],\n",
       "       [0.],\n",
       "       [0.]])"
      ]
     },
     "execution_count": 17,
     "metadata": {},
     "output_type": "execute_result"
    }
   ],
   "source": [
    "# this function returns the theoretical values for Π = [π0 π1 ... πn].\n",
    "# making use of the theoretical equation for the ergodic matrices Π = Π*Matrix\n",
    "find_pi(matrix1)"
   ]
  },
  {
   "cell_type": "code",
   "execution_count": 18,
   "id": "40ae77f0",
   "metadata": {},
   "outputs": [
    {
     "data": {
      "text/plain": [
       "array([9.9999e-01, 5.0000e-06, 5.0000e-06, 0.0000e+00, 0.0000e+00])"
      ]
     },
     "execution_count": 18,
     "metadata": {},
     "output_type": "execute_result"
    }
   ],
   "source": [
    "# monte carlo method to find Π = [π0 π1 ... πn].\n",
    "monte_carlo(matrix1)"
   ]
  },
  {
   "cell_type": "code",
   "execution_count": 19,
   "id": "0c777e59",
   "metadata": {},
   "outputs": [
    {
     "data": {
      "text/plain": [
       "array([9.99956771e-01, 9.46063016e-06, 8.89488788e-06, 1.11637169e-05,\n",
       "       1.37098165e-05])"
      ]
     },
     "execution_count": 19,
     "metadata": {},
     "output_type": "execute_result"
    }
   ],
   "source": [
    "# matrix multiplciation method to find Π = [π0 π1 ... πn].\n",
    "matrix_multiplication_method(matrix1.T)"
   ]
  },
  {
   "cell_type": "code",
   "execution_count": 20,
   "id": "4e1bd2ab",
   "metadata": {},
   "outputs": [
    {
     "data": {
      "text/plain": [
       "array([[1.],\n",
       "       [0.],\n",
       "       [0.],\n",
       "       [0.],\n",
       "       [0.],\n",
       "       [0.],\n",
       "       [0.],\n",
       "       [0.],\n",
       "       [0.],\n",
       "       [0.],\n",
       "       [0.],\n",
       "       [0.],\n",
       "       [0.],\n",
       "       [0.],\n",
       "       [0.],\n",
       "       [0.],\n",
       "       [0.],\n",
       "       [0.],\n",
       "       [0.],\n",
       "       [0.],\n",
       "       [0.],\n",
       "       [0.],\n",
       "       [0.],\n",
       "       [0.],\n",
       "       [0.]])"
      ]
     },
     "execution_count": 20,
     "metadata": {},
     "output_type": "execute_result"
    }
   ],
   "source": [
    "# this function returns the theoretical values for Π = [π0 π1 ... πn].\n",
    "# making use of the theoretical equation for the ergodic matrices Π = Π*Matrix\n",
    "find_pi(matrix2)"
   ]
  },
  {
   "cell_type": "code",
   "execution_count": 21,
   "id": "65fc1207",
   "metadata": {},
   "outputs": [
    {
     "data": {
      "text/plain": [
       "array([1., 0., 0., 0., 0., 0., 0., 0., 0., 0., 0., 0., 0., 0., 0., 0., 0.,\n",
       "       0., 0., 0., 0., 0., 0., 0., 0.])"
      ]
     },
     "execution_count": 21,
     "metadata": {},
     "output_type": "execute_result"
    }
   ],
   "source": [
    "# monte carlo method to find Π = [π0 π1 ... πn].\n",
    "monte_carlo(matrix2)"
   ]
  },
  {
   "cell_type": "code",
   "execution_count": 22,
   "id": "e873f87c",
   "metadata": {},
   "outputs": [
    {
     "data": {
      "text/plain": [
       "array([9.99959309e-01, 1.52924062e-06, 1.91651394e-06, 1.89789966e-06,\n",
       "       1.79345170e-06, 1.78610616e-06, 1.42909990e-06, 1.80789940e-06,\n",
       "       1.66227400e-06, 1.87515433e-06, 1.59288867e-06, 1.80536160e-06,\n",
       "       1.59857415e-06, 1.68132281e-06, 1.96356137e-06, 1.45701444e-06,\n",
       "       1.72926277e-06, 1.48601919e-06, 1.94490356e-06, 1.44126784e-06,\n",
       "       2.02594558e-06, 1.56140740e-06, 1.57002558e-06, 1.76721284e-06,\n",
       "       1.36854736e-06])"
      ]
     },
     "execution_count": 22,
     "metadata": {},
     "output_type": "execute_result"
    }
   ],
   "source": [
    "# matrix multiplciation method to find Π = [π0 π1 ... πn].\n",
    "matrix_multiplication_method(matrix2.T)"
   ]
  },
  {
   "cell_type": "code",
   "execution_count": 23,
   "id": "40a71c39",
   "metadata": {},
   "outputs": [
    {
     "data": {
      "text/plain": [
       "array([[1.],\n",
       "       [0.],\n",
       "       [0.],\n",
       "       [0.],\n",
       "       [0.],\n",
       "       [0.],\n",
       "       [0.],\n",
       "       [0.],\n",
       "       [0.],\n",
       "       [0.],\n",
       "       [0.],\n",
       "       [0.],\n",
       "       [0.],\n",
       "       [0.],\n",
       "       [0.],\n",
       "       [0.],\n",
       "       [0.],\n",
       "       [0.],\n",
       "       [0.],\n",
       "       [0.],\n",
       "       [0.],\n",
       "       [0.],\n",
       "       [0.],\n",
       "       [0.],\n",
       "       [0.],\n",
       "       [0.],\n",
       "       [0.],\n",
       "       [0.],\n",
       "       [0.],\n",
       "       [0.],\n",
       "       [0.],\n",
       "       [0.],\n",
       "       [0.],\n",
       "       [0.],\n",
       "       [0.],\n",
       "       [0.],\n",
       "       [0.],\n",
       "       [0.],\n",
       "       [0.],\n",
       "       [0.],\n",
       "       [0.],\n",
       "       [0.],\n",
       "       [0.],\n",
       "       [0.],\n",
       "       [0.],\n",
       "       [0.],\n",
       "       [0.],\n",
       "       [0.],\n",
       "       [0.],\n",
       "       [0.]])"
      ]
     },
     "execution_count": 23,
     "metadata": {},
     "output_type": "execute_result"
    }
   ],
   "source": [
    "# this function returns the theoretical values for Π = [π0 π1 ... πn].\n",
    "# making use of the theoretical equation for the ergodic matrices Π = Π*Matrix\n",
    "find_pi(matrix3)"
   ]
  },
  {
   "cell_type": "code",
   "execution_count": 24,
   "id": "a67b9ef4",
   "metadata": {},
   "outputs": [
    {
     "data": {
      "text/plain": [
       "array([9.99985e-01, 0.00000e+00, 0.00000e+00, 0.00000e+00, 0.00000e+00,\n",
       "       0.00000e+00, 0.00000e+00, 0.00000e+00, 0.00000e+00, 0.00000e+00,\n",
       "       5.00000e-06, 0.00000e+00, 0.00000e+00, 0.00000e+00, 0.00000e+00,\n",
       "       0.00000e+00, 0.00000e+00, 0.00000e+00, 0.00000e+00, 0.00000e+00,\n",
       "       0.00000e+00, 0.00000e+00, 0.00000e+00, 0.00000e+00, 0.00000e+00,\n",
       "       0.00000e+00, 0.00000e+00, 0.00000e+00, 0.00000e+00, 0.00000e+00,\n",
       "       0.00000e+00, 0.00000e+00, 0.00000e+00, 0.00000e+00, 0.00000e+00,\n",
       "       0.00000e+00, 5.00000e-06, 0.00000e+00, 0.00000e+00, 0.00000e+00,\n",
       "       0.00000e+00, 0.00000e+00, 0.00000e+00, 0.00000e+00, 5.00000e-06,\n",
       "       0.00000e+00, 0.00000e+00, 0.00000e+00, 0.00000e+00, 0.00000e+00])"
      ]
     },
     "execution_count": 24,
     "metadata": {},
     "output_type": "execute_result"
    }
   ],
   "source": [
    "# monte carlo method to find Π = [π0 π1 ... πn].\n",
    "monte_carlo(matrix3)"
   ]
  },
  {
   "cell_type": "code",
   "execution_count": 25,
   "id": "d2fd780f",
   "metadata": {},
   "outputs": [
    {
     "data": {
      "text/plain": [
       "array([9.96342154e-01, 7.77826612e-05, 7.11939050e-05, 7.86354181e-05,\n",
       "       7.18920035e-05, 6.58929665e-05, 7.80004895e-05, 8.18676932e-05,\n",
       "       7.20202532e-05, 7.12141671e-05, 7.49417107e-05, 6.87314641e-05,\n",
       "       8.16744729e-05, 6.97811871e-05, 7.13570553e-05, 6.63682688e-05,\n",
       "       7.80744024e-05, 7.38380536e-05, 7.58937994e-05, 7.55281205e-05,\n",
       "       7.63618998e-05, 7.14321216e-05, 6.74520720e-05, 8.09804396e-05,\n",
       "       7.43945301e-05, 6.85546165e-05, 7.36545629e-05, 7.76394322e-05,\n",
       "       8.03780334e-05, 7.54471797e-05, 6.86355428e-05, 7.78568226e-05,\n",
       "       8.31440590e-05, 7.20335777e-05, 7.39658816e-05, 7.93086056e-05,\n",
       "       7.66588937e-05, 8.82455356e-05, 6.93213078e-05, 6.51252718e-05,\n",
       "       6.82185409e-05, 8.11688883e-05, 7.91986608e-05, 6.73453497e-05,\n",
       "       7.15853898e-05, 7.63473237e-05, 8.14554044e-05, 8.22806482e-05,\n",
       "       6.70101941e-05, 7.79566338e-05])"
      ]
     },
     "execution_count": 25,
     "metadata": {},
     "output_type": "execute_result"
    }
   ],
   "source": [
    "# matrix multiplciation method to find Π = [π0 π1 ... πn].\n",
    "matrix_multiplication_method(matrix3.T)"
   ]
  },
  {
   "cell_type": "markdown",
   "id": "8baa2f2c",
   "metadata": {},
   "source": [
    "## COMMENT: AS CAN BE CLEARLY SEEN FROM THE CALCULATIONS MAKING THE FIRST STATE ABSORBING MADE MODEL TO ULTIMATELY GET STUCK AT THE STATE 1 AS EXPECTED. "
   ]
  }
 ],
 "metadata": {
  "kernelspec": {
   "display_name": "Python 3 (ipykernel)",
   "language": "python",
   "name": "python3"
  },
  "language_info": {
   "codemirror_mode": {
    "name": "ipython",
    "version": 3
   },
   "file_extension": ".py",
   "mimetype": "text/x-python",
   "name": "python",
   "nbconvert_exporter": "python",
   "pygments_lexer": "ipython3",
   "version": "3.8.11"
  }
 },
 "nbformat": 4,
 "nbformat_minor": 5
}
